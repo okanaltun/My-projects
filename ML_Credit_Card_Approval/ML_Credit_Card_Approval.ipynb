{
 "cells": [
  {
   "cell_type": "markdown",
   "metadata": {},
   "source": [
    "## Project Link:\n",
    "\n",
    "https://www.kaggle.com/rikdifos/credit-card-approval-prediction?select=credit_record.csv"
   ]
  },
  {
   "cell_type": "code",
   "execution_count": 223,
   "metadata": {},
   "outputs": [],
   "source": [
    "import pandas as pd\n",
    "import numpy as np\n",
    "\n",
    "from sklearn.model_selection import train_test_split \n",
    "from sklearn import metrics \n",
    "from sklearn.metrics import roc_auc_score\n",
    "from sklearn.metrics import confusion_matrix\n",
    "from sklearn.metrics import precision_score\n",
    "from sklearn.metrics import recall_score\n",
    "from sklearn.metrics import f1_score\n",
    "\n",
    "from sklearn.tree import DecisionTreeClassifier \n",
    "from sklearn.ensemble import BaggingClassifier\n",
    "from sklearn.ensemble import RandomForestClassifier\n",
    "from sklearn.ensemble import AdaBoostClassifier\n",
    "from sklearn.ensemble import GradientBoostingClassifier\n",
    "\n",
    "import xgboost\n",
    "from xgboost import XGBClassifier\n",
    "import lightgbm\n",
    "from lightgbm import LGBMClassifier\n",
    "\n",
    "from sklearn.model_selection import RepeatedStratifiedKFold\n",
    "from sklearn.model_selection import StratifiedKFold\n",
    "from sklearn.model_selection import KFold\n",
    "from sklearn.model_selection import cross_val_score\n",
    "from sklearn.metrics import classification_report\n",
    "from sklearn.model_selection import cross_val_predict\n",
    "from sklearn.metrics.scorer import make_scorer\n",
    "from sklearn.model_selection import RandomizedSearchCV\n",
    "from sklearn.model_selection import GridSearchCV\n",
    "from sklearn import preprocessing\n",
    "\n",
    "import imblearn\n",
    "from collections import Counter\n",
    "from imblearn.over_sampling import RandomOverSampler\n",
    "from imblearn.under_sampling import RandomUnderSampler\n",
    "from imblearn.over_sampling import SMOTE\n",
    "from imblearn.pipeline import Pipeline\n",
    "\n",
    "import seaborn as sns\n",
    "import warnings\n",
    "warnings.filterwarnings('ignore')\n",
    "\n",
    "import matplotlib.pyplot as plt\n",
    "%matplotlib inline\n",
    "sns.set_palette(['#06B1F0', '#FC4B60'])\n",
    "\n",
    "random_seed = 1001"
   ]
  },
  {
   "cell_type": "markdown",
   "metadata": {},
   "source": [
    "## FLOW:\n",
    "\n",
    "- On the dataset for which I provided the link above, I aim to build an accurate model which will the approval or rejection decision based on its prediction about whether the applicant will default or not. In a real-world case, using the discriminative power of this model by ordering probability outputs, defining risk-based homogenous clusters and applying different cut-off levels for each of them would be a more appropriate approach. However, here, I chose to focus on the modelling part.\n",
    "- Data Examination\n",
    "- Target Definition\n",
    "- Feature Engineering\n",
    "- Encoding\n",
    "- Transformation\n",
    "- Resampling\n",
    "- Advance ML Algorithms\n",
    "- Hyperparameter Tuning"
   ]
  },
  {
   "cell_type": "code",
   "execution_count": 25,
   "metadata": {},
   "outputs": [],
   "source": [
    "app = pd.read_csv('application_record.csv')\n",
    "cr = pd.read_csv('credit_record.csv')"
   ]
  },
  {
   "cell_type": "markdown",
   "metadata": {},
   "source": [
    "### Data Analysis:\n",
    "\n",
    "1. application_record: Contains some attributes about the applicant.\n",
    "2. credit_record: Contains monthly information of past credits. There are multiple rows for each applicant in this dataset.\n",
    "\n",
    "TARGET: The target is not readily provided in the data. I will use credit_record data to construct a default_f which indicates whether an applicant has defaulted before or not. The customers who are in credit_record data and do not have only X (no loan for the month) values in STATUS column are either flagged as 0 or 1, the remaining data left null. Whilst assigning good as default_f, I put an additional condition to customer observing 30+ delinquency condition: Customer should observe at least 12 months to be eligible for good flag."
   ]
  },
  {
   "cell_type": "code",
   "execution_count": 31,
   "metadata": {},
   "outputs": [],
   "source": [
    "def target(df):\n",
    "    status_bad =['2','3','4','5']\n",
    "    new_df = pd.DataFrame(columns=['ID','DEFAULT_F'])\n",
    "    data = df[df.STATUS!='X'].reset_index(drop=True)\n",
    "    for val in data.ID.unique():\n",
    "        loc = len(new_df)\n",
    "        filtered = data[data.ID==val]\n",
    "        filtered.reset_index(drop=True, inplace=True)\n",
    "        \n",
    "        if len([i for i in status_bad if i in list(filtered['STATUS'])])>0:\n",
    "            row =[val,1]\n",
    "            new_df.loc[loc] = row\n",
    "        elif len(filtered)>=12:\n",
    "            row=[val,0]\n",
    "            new_df.loc[loc] = row\n",
    "        else:\n",
    "            continue\n",
    "            \n",
    "        new_df.reset_index(drop=True,inplace=True)\n",
    "        new_df = new_df.astype(np.int64)\n",
    "    return new_df"
   ]
  },
  {
   "cell_type": "code",
   "execution_count": 32,
   "metadata": {},
   "outputs": [],
   "source": [
    "cr_new = target(cr)\n",
    "cr_new.to_csv('credit_records_updated.csv')"
   ]
  },
  {
   "cell_type": "code",
   "execution_count": 34,
   "metadata": {},
   "outputs": [],
   "source": [
    "final = pd.merge(cr_new,app,how='inner',on='ID')\n",
    "final.to_pickle('final_data.pkl')"
   ]
  },
  {
   "cell_type": "markdown",
   "metadata": {},
   "source": [
    "### Null Control:"
   ]
  },
  {
   "cell_type": "code",
   "execution_count": 37,
   "metadata": {
    "scrolled": true
   },
   "outputs": [
    {
     "name": "stdout",
     "output_type": "stream",
     "text": [
      "<class 'pandas.core.frame.DataFrame'>\n",
      "Int64Index: 20108 entries, 0 to 20107\n",
      "Data columns (total 19 columns):\n",
      "ID                     20108 non-null int64\n",
      "DEFAULT_F              20108 non-null int64\n",
      "CODE_GENDER            20108 non-null object\n",
      "FLAG_OWN_CAR           20108 non-null object\n",
      "FLAG_OWN_REALTY        20108 non-null object\n",
      "CNT_CHILDREN           20108 non-null int64\n",
      "AMT_INCOME_TOTAL       20108 non-null float64\n",
      "NAME_INCOME_TYPE       20108 non-null object\n",
      "NAME_EDUCATION_TYPE    20108 non-null object\n",
      "NAME_FAMILY_STATUS     20108 non-null object\n",
      "NAME_HOUSING_TYPE      20108 non-null object\n",
      "DAYS_BIRTH             20108 non-null int64\n",
      "DAYS_EMPLOYED          20108 non-null int64\n",
      "FLAG_MOBIL             20108 non-null int64\n",
      "FLAG_WORK_PHONE        20108 non-null int64\n",
      "FLAG_PHONE             20108 non-null int64\n",
      "FLAG_EMAIL             20108 non-null int64\n",
      "OCCUPATION_TYPE        13881 non-null object\n",
      "CNT_FAM_MEMBERS        20108 non-null float64\n",
      "dtypes: float64(2), int64(9), object(8)\n",
      "memory usage: 3.1+ MB\n"
     ]
    }
   ],
   "source": [
    "final.info()"
   ]
  },
  {
   "cell_type": "code",
   "execution_count": 50,
   "metadata": {},
   "outputs": [],
   "source": [
    "final = final[~final.OCCUPATION_TYPE.isna()].reset_index(drop=True)\n",
    "final.to_pickle('final_data.pkl')"
   ]
  },
  {
   "cell_type": "markdown",
   "metadata": {},
   "source": [
    "### Feature Engineering:"
   ]
  },
  {
   "cell_type": "code",
   "execution_count": 84,
   "metadata": {},
   "outputs": [
    {
     "data": {
      "text/html": [
       "<div>\n",
       "<style scoped>\n",
       "    .dataframe tbody tr th:only-of-type {\n",
       "        vertical-align: middle;\n",
       "    }\n",
       "\n",
       "    .dataframe tbody tr th {\n",
       "        vertical-align: top;\n",
       "    }\n",
       "\n",
       "    .dataframe thead th {\n",
       "        text-align: right;\n",
       "    }\n",
       "</style>\n",
       "<table border=\"1\" class=\"dataframe\">\n",
       "  <thead>\n",
       "    <tr style=\"text-align: right;\">\n",
       "      <th></th>\n",
       "      <th>ID</th>\n",
       "      <th>DEFAULT_F</th>\n",
       "      <th>CNT_CHILDREN</th>\n",
       "      <th>AMT_INCOME_TOTAL</th>\n",
       "      <th>FLAG_MOBIL</th>\n",
       "      <th>FLAG_WORK_PHONE</th>\n",
       "      <th>FLAG_PHONE</th>\n",
       "      <th>FLAG_EMAIL</th>\n",
       "      <th>CNT_FAM_MEMBERS</th>\n",
       "      <th>Age</th>\n",
       "      <th>Work_months</th>\n",
       "    </tr>\n",
       "  </thead>\n",
       "  <tbody>\n",
       "    <tr>\n",
       "      <th>count</th>\n",
       "      <td>1.388100e+04</td>\n",
       "      <td>13881.000000</td>\n",
       "      <td>13881.000000</td>\n",
       "      <td>1.388100e+04</td>\n",
       "      <td>13881.0</td>\n",
       "      <td>13881.000000</td>\n",
       "      <td>13881.000000</td>\n",
       "      <td>13881.000000</td>\n",
       "      <td>13881.000000</td>\n",
       "      <td>13881.000000</td>\n",
       "      <td>13881.000000</td>\n",
       "    </tr>\n",
       "    <tr>\n",
       "      <th>mean</th>\n",
       "      <td>5.079240e+06</td>\n",
       "      <td>0.030401</td>\n",
       "      <td>0.490022</td>\n",
       "      <td>1.963589e+05</td>\n",
       "      <td>1.0</td>\n",
       "      <td>0.275989</td>\n",
       "      <td>0.296088</td>\n",
       "      <td>0.100497</td>\n",
       "      <td>2.300915</td>\n",
       "      <td>41.098840</td>\n",
       "      <td>91.625500</td>\n",
       "    </tr>\n",
       "    <tr>\n",
       "      <th>std</th>\n",
       "      <td>4.221709e+04</td>\n",
       "      <td>0.171695</td>\n",
       "      <td>0.707864</td>\n",
       "      <td>1.041551e+05</td>\n",
       "      <td>0.0</td>\n",
       "      <td>0.447027</td>\n",
       "      <td>0.456547</td>\n",
       "      <td>0.300672</td>\n",
       "      <td>0.937302</td>\n",
       "      <td>9.424317</td>\n",
       "      <td>79.852792</td>\n",
       "    </tr>\n",
       "    <tr>\n",
       "      <th>min</th>\n",
       "      <td>5.008806e+06</td>\n",
       "      <td>0.000000</td>\n",
       "      <td>0.000000</td>\n",
       "      <td>2.700000e+04</td>\n",
       "      <td>1.0</td>\n",
       "      <td>0.000000</td>\n",
       "      <td>0.000000</td>\n",
       "      <td>0.000000</td>\n",
       "      <td>1.000000</td>\n",
       "      <td>21.000000</td>\n",
       "      <td>1.433333</td>\n",
       "    </tr>\n",
       "    <tr>\n",
       "      <th>25%</th>\n",
       "      <td>5.042308e+06</td>\n",
       "      <td>0.000000</td>\n",
       "      <td>0.000000</td>\n",
       "      <td>1.350000e+05</td>\n",
       "      <td>1.0</td>\n",
       "      <td>0.000000</td>\n",
       "      <td>0.000000</td>\n",
       "      <td>0.000000</td>\n",
       "      <td>2.000000</td>\n",
       "      <td>33.000000</td>\n",
       "      <td>35.033333</td>\n",
       "    </tr>\n",
       "    <tr>\n",
       "      <th>50%</th>\n",
       "      <td>5.079207e+06</td>\n",
       "      <td>0.000000</td>\n",
       "      <td>0.000000</td>\n",
       "      <td>1.800000e+05</td>\n",
       "      <td>1.0</td>\n",
       "      <td>0.000000</td>\n",
       "      <td>0.000000</td>\n",
       "      <td>0.000000</td>\n",
       "      <td>2.000000</td>\n",
       "      <td>41.000000</td>\n",
       "      <td>70.533333</td>\n",
       "    </tr>\n",
       "    <tr>\n",
       "      <th>75%</th>\n",
       "      <td>5.115918e+06</td>\n",
       "      <td>0.000000</td>\n",
       "      <td>1.000000</td>\n",
       "      <td>2.295000e+05</td>\n",
       "      <td>1.0</td>\n",
       "      <td>1.000000</td>\n",
       "      <td>1.000000</td>\n",
       "      <td>0.000000</td>\n",
       "      <td>3.000000</td>\n",
       "      <td>48.000000</td>\n",
       "      <td>120.266667</td>\n",
       "    </tr>\n",
       "    <tr>\n",
       "      <th>max</th>\n",
       "      <td>5.150487e+06</td>\n",
       "      <td>1.000000</td>\n",
       "      <td>2.000000</td>\n",
       "      <td>1.575000e+06</td>\n",
       "      <td>1.0</td>\n",
       "      <td>1.000000</td>\n",
       "      <td>1.000000</td>\n",
       "      <td>1.000000</td>\n",
       "      <td>15.000000</td>\n",
       "      <td>67.000000</td>\n",
       "      <td>523.766667</td>\n",
       "    </tr>\n",
       "  </tbody>\n",
       "</table>\n",
       "</div>"
      ],
      "text/plain": [
       "                 ID     DEFAULT_F  CNT_CHILDREN  AMT_INCOME_TOTAL  FLAG_MOBIL  \\\n",
       "count  1.388100e+04  13881.000000  13881.000000      1.388100e+04     13881.0   \n",
       "mean   5.079240e+06      0.030401      0.490022      1.963589e+05         1.0   \n",
       "std    4.221709e+04      0.171695      0.707864      1.041551e+05         0.0   \n",
       "min    5.008806e+06      0.000000      0.000000      2.700000e+04         1.0   \n",
       "25%    5.042308e+06      0.000000      0.000000      1.350000e+05         1.0   \n",
       "50%    5.079207e+06      0.000000      0.000000      1.800000e+05         1.0   \n",
       "75%    5.115918e+06      0.000000      1.000000      2.295000e+05         1.0   \n",
       "max    5.150487e+06      1.000000      2.000000      1.575000e+06         1.0   \n",
       "\n",
       "       FLAG_WORK_PHONE    FLAG_PHONE    FLAG_EMAIL  CNT_FAM_MEMBERS  \\\n",
       "count     13881.000000  13881.000000  13881.000000     13881.000000   \n",
       "mean          0.275989      0.296088      0.100497         2.300915   \n",
       "std           0.447027      0.456547      0.300672         0.937302   \n",
       "min           0.000000      0.000000      0.000000         1.000000   \n",
       "25%           0.000000      0.000000      0.000000         2.000000   \n",
       "50%           0.000000      0.000000      0.000000         2.000000   \n",
       "75%           1.000000      1.000000      0.000000         3.000000   \n",
       "max           1.000000      1.000000      1.000000        15.000000   \n",
       "\n",
       "                Age   Work_months  \n",
       "count  13881.000000  13881.000000  \n",
       "mean      41.098840     91.625500  \n",
       "std        9.424317     79.852792  \n",
       "min       21.000000      1.433333  \n",
       "25%       33.000000     35.033333  \n",
       "50%       41.000000     70.533333  \n",
       "75%       48.000000    120.266667  \n",
       "max       67.000000    523.766667  "
      ]
     },
     "execution_count": 84,
     "metadata": {},
     "output_type": "execute_result"
    }
   ],
   "source": [
    "final.describe()"
   ]
  },
  {
   "cell_type": "code",
   "execution_count": 91,
   "metadata": {},
   "outputs": [
    {
     "data": {
      "text/plain": [
       "Index(['ID', 'DEFAULT_F', 'CODE_GENDER', 'FLAG_OWN_CAR', 'FLAG_OWN_REALTY',\n",
       "       'CNT_CHILDREN', 'AMT_INCOME_TOTAL', 'NAME_INCOME_TYPE',\n",
       "       'NAME_EDUCATION_TYPE', 'NAME_FAMILY_STATUS', 'NAME_HOUSING_TYPE',\n",
       "       'FLAG_MOBIL', 'FLAG_WORK_PHONE', 'FLAG_PHONE', 'FLAG_EMAIL',\n",
       "       'OCCUPATION_TYPE', 'Age', 'Work_months'],\n",
       "      dtype='object')"
      ]
     },
     "execution_count": 91,
     "metadata": {},
     "output_type": "execute_result"
    }
   ],
   "source": [
    "final.columns"
   ]
  },
  {
   "cell_type": "markdown",
   "metadata": {},
   "source": [
    "##### Continuous Features:"
   ]
  },
  {
   "cell_type": "code",
   "execution_count": 56,
   "metadata": {},
   "outputs": [],
   "source": [
    "#CNT_CHILDREN:\n",
    "\n",
    "final['CNT_CHILDREN'] = np.where(final['CNT_CHILDREN']>=2,2,final['CNT_CHILDREN'])"
   ]
  },
  {
   "cell_type": "code",
   "execution_count": 78,
   "metadata": {},
   "outputs": [],
   "source": [
    "#AMT_INCOME_TOTAL:\n",
    "\n",
    "final['Age'] = round(-final.DAYS_BIRTH/365)\n",
    "final = final.drop('DAYS_BIRTH',axis=1)"
   ]
  },
  {
   "cell_type": "code",
   "execution_count": 83,
   "metadata": {},
   "outputs": [],
   "source": [
    "#DAYS_EMPLOYED:\n",
    "final['DAYS_EMPLOYED'] = np.where(final['DAYS_EMPLOYED']>=0,0,final['DAYS_EMPLOYED'])\n",
    "final['Work_months'] = -final.DAYS_EMPLOYED/30\n",
    "final = final.drop('DAYS_EMPLOYED',axis=1)"
   ]
  },
  {
   "cell_type": "code",
   "execution_count": 89,
   "metadata": {},
   "outputs": [],
   "source": [
    "#CNT_FAM_MEMBERS:\n",
    "\n",
    "final = final.drop('CNT_FAM_MEMBERS',axis=1)"
   ]
  },
  {
   "cell_type": "code",
   "execution_count": 90,
   "metadata": {},
   "outputs": [],
   "source": [
    "final.to_pickle('final_data.pkl')"
   ]
  },
  {
   "cell_type": "markdown",
   "metadata": {},
   "source": [
    "##### Categorical Features:"
   ]
  },
  {
   "cell_type": "code",
   "execution_count": 51,
   "metadata": {},
   "outputs": [],
   "source": [
    "final = pd.read_pickle('final_data.pkl')"
   ]
  },
  {
   "cell_type": "code",
   "execution_count": 52,
   "metadata": {
    "scrolled": true
   },
   "outputs": [],
   "source": [
    "#FLAG_MOBIL: All 1 values.\n",
    "final =final.drop('FLAG_MOBIL',axis=1)"
   ]
  },
  {
   "cell_type": "code",
   "execution_count": 53,
   "metadata": {},
   "outputs": [
    {
     "data": {
      "text/plain": [
       "count    13881.000000\n",
       "mean         0.275989\n",
       "std          0.447027\n",
       "min          0.000000\n",
       "25%          0.000000\n",
       "50%          0.000000\n",
       "75%          1.000000\n",
       "max          1.000000\n",
       "Name: FLAG_WORK_PHONE, dtype: float64"
      ]
     },
     "execution_count": 53,
     "metadata": {},
     "output_type": "execute_result"
    }
   ],
   "source": [
    "#FLAG_WORK_PHONE: Nothing to do here.\n",
    "final.FLAG_WORK_PHONE.describe()"
   ]
  },
  {
   "cell_type": "code",
   "execution_count": 54,
   "metadata": {
    "scrolled": true
   },
   "outputs": [
    {
     "data": {
      "text/plain": [
       "count    13881.000000\n",
       "mean         0.296088\n",
       "std          0.456547\n",
       "min          0.000000\n",
       "25%          0.000000\n",
       "50%          0.000000\n",
       "75%          1.000000\n",
       "max          1.000000\n",
       "Name: FLAG_PHONE, dtype: float64"
      ]
     },
     "execution_count": 54,
     "metadata": {},
     "output_type": "execute_result"
    }
   ],
   "source": [
    "#FLAG_PHONE: Nothing to do here.\n",
    "final.FLAG_PHONE.describe()"
   ]
  },
  {
   "cell_type": "code",
   "execution_count": 55,
   "metadata": {},
   "outputs": [
    {
     "data": {
      "text/plain": [
       "count    13881.000000\n",
       "mean         0.100497\n",
       "std          0.300672\n",
       "min          0.000000\n",
       "25%          0.000000\n",
       "50%          0.000000\n",
       "75%          0.000000\n",
       "max          1.000000\n",
       "Name: FLAG_EMAIL, dtype: float64"
      ]
     },
     "execution_count": 55,
     "metadata": {},
     "output_type": "execute_result"
    }
   ],
   "source": [
    "#FLAG_EMAIL: Nothing to do here\n",
    "final.FLAG_EMAIL.describe()"
   ]
  },
  {
   "cell_type": "code",
   "execution_count": 56,
   "metadata": {},
   "outputs": [],
   "source": [
    "#CODE_GENDER\n",
    "final.CODE_GENDER.replace(['M','F'],[0,1],inplace=True)"
   ]
  },
  {
   "cell_type": "code",
   "execution_count": 57,
   "metadata": {},
   "outputs": [],
   "source": [
    "#FLAG_OWN_CAR\n",
    "final.FLAG_OWN_CAR.replace(['N','Y'],[0,1],inplace=True)"
   ]
  },
  {
   "cell_type": "code",
   "execution_count": 58,
   "metadata": {},
   "outputs": [],
   "source": [
    "#FLAG_OWN_REALTY\n",
    "final.FLAG_OWN_REALTY.replace(['N','Y'],[0,1],inplace=True)"
   ]
  },
  {
   "cell_type": "markdown",
   "metadata": {},
   "source": [
    "### Encoding Definition:"
   ]
  },
  {
   "cell_type": "code",
   "execution_count": 59,
   "metadata": {},
   "outputs": [],
   "source": [
    "def convert(df,encode_list,ohe_list):\n",
    "    data = df.copy()\n",
    "    le = preprocessing.LabelEncoder()\n",
    "    \n",
    "    final_map = pd.DataFrame(columns=['Attribute','Original', 'Label'])\n",
    "    \n",
    "    for encode in encode_list:\n",
    "        \n",
    "        data[encode] = le.fit_transform(data[encode])\n",
    "        le_name_mapping = dict(zip(le.classes_, le.transform(le.classes_)))\n",
    "        map_df = pd.DataFrame({'Attribute':encode,'Original':list(le_name_mapping.keys()),'Label':list(le_name_mapping.values())})\n",
    "            \n",
    "            \n",
    "        #encode,le_name_mapping.items(), columns=['Attribute','Original', 'Label'])\n",
    "        final_map = final_map.append(map_df)\n",
    "        \n",
    "    final_map.reset_index(drop=True,inplace=True)\n",
    "    final_map.to_pickle('labeling_stored.pkl')\n",
    "    \n",
    "    for onehat in ohe_list:\n",
    "        ohe = pd.get_dummies(data[onehat],drop_first=True)\n",
    "        data = data.drop(onehat,axis=1)\n",
    "        data = data.join(ohe)\n",
    "        \n",
    "    \n",
    "    return data,final_map"
   ]
  },
  {
   "cell_type": "code",
   "execution_count": 60,
   "metadata": {},
   "outputs": [],
   "source": [
    "#NAME_INCOME_TYPE\n",
    "final.NAME_INCOME_TYPE.unique()\n",
    "encode_list = []\n",
    "ohe_list = ['NAME_INCOME_TYPE']\n",
    "final,income_map = convert(final,encode_list,ohe_list)"
   ]
  },
  {
   "cell_type": "code",
   "execution_count": 61,
   "metadata": {},
   "outputs": [],
   "source": [
    "#NAME_EDUCATION_TYPE: \n",
    "final.NAME_EDUCATION_TYPE.unique()\n",
    "final.NAME_EDUCATION_TYPE = final.NAME_EDUCATION_TYPE.map({'Lower secondary':0,\n",
    "                        'Secondary / secondary special':1,\n",
    "                        'Incomplete higher':2,\n",
    "                        'Higher education':3,\n",
    "                        'Academic degree':4})"
   ]
  },
  {
   "cell_type": "code",
   "execution_count": 62,
   "metadata": {},
   "outputs": [],
   "source": [
    "#NAME_FAMILY_STATUS:\n",
    "final.NAME_FAMILY_STATUS.unique()\n",
    "encode_list = []\n",
    "ohe_list = ['NAME_FAMILY_STATUS']\n",
    "final,family_map = convert(final,encode_list,ohe_list)"
   ]
  },
  {
   "cell_type": "code",
   "execution_count": 63,
   "metadata": {},
   "outputs": [],
   "source": [
    "#NAME_HOUSING_TYPE:\n",
    "final.NAME_HOUSING_TYPE.unique()\n",
    "encode_list = []\n",
    "ohe_list = ['NAME_HOUSING_TYPE']\n",
    "final,housing_map = convert(final,encode_list,ohe_list)"
   ]
  },
  {
   "cell_type": "code",
   "execution_count": 64,
   "metadata": {},
   "outputs": [],
   "source": [
    "#OCCUPATION_TYPE:\n",
    "final.OCCUPATION_TYPE.unique()\n",
    "encode_list = []\n",
    "ohe_list = ['OCCUPATION_TYPE']\n",
    "final,occupation_map = convert(final,encode_list,ohe_list)"
   ]
  },
  {
   "cell_type": "code",
   "execution_count": 66,
   "metadata": {},
   "outputs": [],
   "source": [
    "final.to_pickle('encoded_final_data.pkl')\n",
    "encoded = final"
   ]
  },
  {
   "cell_type": "markdown",
   "metadata": {},
   "source": [
    "### Normalization to continuous features:\n",
    "\n",
    "Continuous features vary between large values and this might have severe effects if we would like to conduct regression models later."
   ]
  },
  {
   "cell_type": "code",
   "execution_count": 67,
   "metadata": {},
   "outputs": [],
   "source": [
    "cont_list = ['AMT_INCOME_TOTAL','Age','Work_months']\n",
    "reg_data = encoded.copy()\n",
    "for cont in cont_list:\n",
    "    mean = reg_data[cont].mean()\n",
    "    std = reg_data[cont].std()\n",
    "    reg_data[cont] = (encoded[cont] - mean)/std\n",
    "\n",
    "reg_data.to_pickle('regression_data.pkl')"
   ]
  },
  {
   "cell_type": "markdown",
   "metadata": {},
   "source": [
    "# Modelling:"
   ]
  },
  {
   "cell_type": "markdown",
   "metadata": {},
   "source": [
    "### Train - Test Split:\n",
    "\n",
    "We should note that bad is the minority class in the dataset constituting 3% of the overall data. After splitting data into train and tes by 70% and 30% respectively, we might require resampling."
   ]
  },
  {
   "cell_type": "code",
   "execution_count": 68,
   "metadata": {},
   "outputs": [],
   "source": [
    "encoded = pd.read_pickle('encoded_final_data.pkl')"
   ]
  },
  {
   "cell_type": "code",
   "execution_count": 69,
   "metadata": {},
   "outputs": [],
   "source": [
    "train,test = train_test_split(encoded,test_size=0.3)"
   ]
  },
  {
   "cell_type": "markdown",
   "metadata": {},
   "source": [
    "### Resampling:\n",
    "\n",
    "We have different resampling opportunities to implement such as over/down sampling, cluster based sampling, SMOTE or MSMOTE. For the sake of no information loss, I prefer not to go with down sampling. Below, different combinations of oversampling along with SMOTE resampling will be tried and tested by cross validation method and selected base algorithms on train and test data,respectively."
   ]
  },
  {
   "cell_type": "code",
   "execution_count": 77,
   "metadata": {},
   "outputs": [],
   "source": [
    "x_train1 = train.drop(['ID','DEFAULT_F'],axis=1)\n",
    "y_train1 = train.DEFAULT_F\n",
    "\n",
    "x_test = test.drop(['ID','DEFAULT_F'],axis=1)\n",
    "y_test = test.DEFAULT_F"
   ]
  },
  {
   "cell_type": "markdown",
   "metadata": {},
   "source": [
    "### Checking Simple Resampling Over & Under:\n",
    "\n",
    "Normally, OverSampling is preferred not to cause information loss, but in our case, predicting minority group is more important and with the assumption that we would not lose valuable distinctive information by eliminating a portion of the majority data, I will try undersampling as well."
   ]
  },
  {
   "cell_type": "code",
   "execution_count": 89,
   "metadata": {},
   "outputs": [],
   "source": [
    "scorer=make_scorer(roc_auc_score, greater_is_better=True)\n",
    "clf = DecisionTreeClassifier(random_state=random_seed)\n",
    "rfc = RandomForestClassifier(n_estimators=50,random_state=random_seed)\n",
    "ada = AdaBoostClassifier(n_estimators=50, random_state=random_seed)\n",
    "gb = GradientBoostingClassifier(n_estimators=50, random_state=random_seed)\n",
    "bgc = BaggingClassifier(base_estimator=clf, n_estimators=50, random_state=random_seed)\n",
    "xgb = XGBClassifier(random_state= random_seed)\n",
    "\n",
    "def try_base_model(model,x_train,y_train,x_test,y_test,name):\n",
    "    model.fit(x_train,y_train)\n",
    "    y_pred_proba = model.predict_proba(x_test)\n",
    "    y_pred = model.predict(x_test)\n",
    "    \n",
    "    print (str(name).upper()+ \"\"\" Score Proba:\"\"\", roc_auc_score(y_test, y_pred_proba[:,1]))\n",
    "    print (str(name).upper()+\" Accuracy:\",metrics.accuracy_score(y_test, y_pred))\n",
    "    tn, fp, fn, tp = confusion_matrix(y_test,y_pred).ravel()\n",
    "    print('tn, fp, fn, tp: ', tn, fp, fn, tp)\n",
    "    print(\" \")"
   ]
  },
  {
   "cell_type": "markdown",
   "metadata": {},
   "source": [
    "When tried, ADA and GB boost algorithms perform inadequately with in terms of guessing defaulted customers even though they have high accuracy scores."
   ]
  },
  {
   "cell_type": "markdown",
   "metadata": {},
   "source": [
    "##### Over Sampling:"
   ]
  },
  {
   "cell_type": "code",
   "execution_count": 85,
   "metadata": {},
   "outputs": [],
   "source": [
    "ros = RandomOverSampler(sampling_strategy = 0.5,random_state=random_seed)\n",
    "x_over,y_over = ros.fit_resample(x_train1,y_train1)"
   ]
  },
  {
   "cell_type": "code",
   "execution_count": 99,
   "metadata": {},
   "outputs": [
    {
     "name": "stdout",
     "output_type": "stream",
     "text": [
      "DECISION TREE  Score Proba: 0.7224250455811213\n",
      "DECISION TREE  Accuracy: 0.9531812725090036\n",
      "tn, fp, fn, tp:  3916 135 60 54\n",
      " \n",
      "RANDOM FOREST Score Proba: 0.7836076862113319\n",
      "RANDOM FOREST Accuracy: 0.9623049219687875\n",
      "tn, fp, fn, tp:  3957 94 63 51\n",
      " \n",
      "ADA Score Proba: 0.6332711871013005\n",
      "ADA Accuracy: 0.907563025210084\n",
      "tn, fp, fn, tp:  3760 291 94 20\n",
      " \n",
      "GB Score Proba: 0.6507998891328544\n",
      "GB Accuracy: 0.9524609843937575\n",
      "tn, fp, fn, tp:  3951 100 98 16\n",
      " \n",
      "BGC Score Proba: 0.7871058478088581\n",
      "BGC Accuracy: 0.9618247298919568\n",
      "tn, fp, fn, tp:  3952 99 60 54\n",
      " \n",
      "XGB Score Proba: 0.71651357472922\n",
      "XGB Accuracy: 0.9611044417767107\n",
      "tn, fp, fn, tp:  3948 103 59 55\n",
      " \n"
     ]
    }
   ],
   "source": [
    "try_base_model(clf,x_over,y_over,x_test,y_test,'Decision Tree ')\n",
    "try_base_model(rfc,x_over,y_over,x_test,y_test,'Random Forest')\n",
    "try_base_model(ada,x_over,y_over,x_test,y_test,'ADA')\n",
    "try_base_model(gb,x_over,y_over,x_test,y_test,'GB')\n",
    "try_base_model(bgc,x_over,y_over,x_test,y_test,'bgc')\n",
    "try_base_model(xgb,x_over,y_over,x_test,y_test,'xgb')"
   ]
  },
  {
   "cell_type": "code",
   "execution_count": 124,
   "metadata": {},
   "outputs": [],
   "source": [
    "rus = RandomUnderSampler(sampling_strategy = 0.25,random_state=random_seed)\n",
    "x_under,y_under = rus.fit_resample(x_train1,y_train1)"
   ]
  },
  {
   "cell_type": "code",
   "execution_count": 125,
   "metadata": {},
   "outputs": [
    {
     "name": "stdout",
     "output_type": "stream",
     "text": [
      "DECISION TREE  Score Proba: 0.6805445482380353\n",
      "DECISION TREE  Accuracy: 0.8446578631452581\n",
      "tn, fp, fn, tp:  3462 589 58 56\n",
      " \n",
      "RANDOM FOREST Score Proba: 0.7364718263196871\n",
      "RANDOM FOREST Accuracy: 0.9601440576230492\n",
      "tn, fp, fn, tp:  3949 102 64 50\n",
      " \n",
      "ADA Score Proba: 0.6451493458405332\n",
      "ADA Accuracy: 0.9637454981992797\n",
      "tn, fp, fn, tp:  4009 42 109 5\n",
      " \n",
      "GB Score Proba: 0.6573252434962993\n",
      "GB Accuracy: 0.9704681872749099\n",
      "tn, fp, fn, tp:  4036 15 108 6\n",
      " \n",
      "BGC Score Proba: 0.7491219408679685\n",
      "BGC Accuracy: 0.9495798319327731\n",
      "tn, fp, fn, tp:  3905 146 64 50\n",
      " \n",
      "XGB Score Proba: 0.7176374038032628\n",
      "XGB Accuracy: 0.9258103241296518\n",
      "tn, fp, fn, tp:  3804 247 62 52\n",
      " \n"
     ]
    }
   ],
   "source": [
    "try_base_model(clf,x_under,y_under,x_test,y_test,'Decision Tree ')\n",
    "try_base_model(rfc,x_under,y_under,x_test,y_test,'Random Forest')\n",
    "try_base_model(ada,x_under,y_under,x_test,y_test,'ADA')\n",
    "try_base_model(gb,x_under,y_under,x_test,y_test,'GB')\n",
    "try_base_model(bgc,x_under,y_under,x_test,y_test,'bgc')\n",
    "try_base_model(xgb,x_under,y_under,x_test,y_test,'xgb')"
   ]
  },
  {
   "cell_type": "markdown",
   "metadata": {},
   "source": [
    "### Resampling with SMOTE:"
   ]
  },
  {
   "cell_type": "code",
   "execution_count": 149,
   "metadata": {},
   "outputs": [],
   "source": [
    "x_smote,y_smote = SMOTE(sampling_strategy=0.3).fit_sample(x_train1,y_train1)\n",
    "x_smote = pd.DataFrame(x_smote, columns = x_train1.columns)"
   ]
  },
  {
   "cell_type": "code",
   "execution_count": 150,
   "metadata": {},
   "outputs": [
    {
     "name": "stdout",
     "output_type": "stream",
     "text": [
      "DECISION TREE  Score Proba: 0.7149685804241535\n",
      "DECISION TREE  Accuracy: 0.9543817527010804\n",
      "tn, fp, fn, tp:  3936 115 75 39\n",
      " \n",
      "RANDOM FOREST Score Proba: 0.8044948832213834\n",
      "RANDOM FOREST Accuracy: 0.9690276110444178\n",
      "tn, fp, fn, tp:  3995 56 73 41\n",
      " \n",
      "ADA Score Proba: 0.6138402040648401\n",
      "ADA Accuracy: 0.9440576230492197\n",
      "tn, fp, fn, tp:  3923 128 105 9\n",
      " \n",
      "GB Score Proba: 0.6145623562733049\n",
      "GB Accuracy: 0.9661464585834334\n",
      "tn, fp, fn, tp:  4019 32 109 5\n",
      " \n",
      "BGC Score Proba: 0.782636515999948\n",
      "BGC Accuracy: 0.9680672268907563\n",
      "tn, fp, fn, tp:  3995 56 77 37\n",
      " \n",
      "XGB Score Proba: 0.691216593693565\n",
      "XGB Accuracy: 0.9702280912364946\n",
      "tn, fp, fn, tp:  4008 43 81 33\n",
      " \n"
     ]
    }
   ],
   "source": [
    "try_base_model(clf,x_smote,y_smote,x_test,y_test,'Decision Tree ')\n",
    "try_base_model(rfc,x_smote,y_smote,x_test,y_test,'Random Forest')\n",
    "try_base_model(ada,x_smote,y_smote,x_test,y_test,'ADA')\n",
    "try_base_model(gb,x_smote,y_smote,x_test,y_test,'GB')\n",
    "try_base_model(bgc,x_smote,y_smote,x_test,y_test,'bgc')\n",
    "try_base_model(xgb,x_smote,y_smote,x_test,y_test,'xgb')"
   ]
  },
  {
   "cell_type": "markdown",
   "metadata": {},
   "source": [
    "#### Selection = Simple Over Sampling with 0.5"
   ]
  },
  {
   "cell_type": "code",
   "execution_count": 161,
   "metadata": {},
   "outputs": [],
   "source": [
    "clf = DecisionTreeClassifier(random_state=random_seed)\n",
    "rfc = RandomForestClassifier(random_state=random_seed)\n",
    "bgc = BaggingClassifier(base_estimator=clf, random_state=random_seed)\n",
    "xgb = XGBClassifier(random_state= random_seed)\n",
    "\n",
    "def try_base_model(model,x_train,y_train,x_test,y_test,name):\n",
    "    model.fit(x_train,y_train)\n",
    "    y_pred_proba = model.predict_proba(x_test)\n",
    "    y_pred = model.predict(x_test)\n",
    "    \n",
    "    print (str(name).upper()+ \"\"\" Score Proba:\"\"\", roc_auc_score(y_test, y_pred_proba[:,1]))\n",
    "    print (str(name).upper()+\" Accuracy:\",metrics.accuracy_score(y_test, y_pred))\n",
    "    tn, fp, fn, tp = confusion_matrix(y_test,y_pred).ravel()\n",
    "    print('tn, fp, fn, tp: ', tn, fp, fn, tp)\n",
    "    print(\" \")\n",
    "    \n",
    "def try_base_model_cv(model,x_train,y_train,name):\n",
    "    cv_score = cross_val_score(model, x_train, y_train, cv=10, scoring=scorer)\n",
    "    \n",
    "    print(str(name).upper()+\" CV Scores:\\n \", cv_score)\n",
    "    print(\"Mean AUC Score - \"+str(name).upper()+\" :\", cv_score.mean())"
   ]
  },
  {
   "cell_type": "code",
   "execution_count": 154,
   "metadata": {},
   "outputs": [],
   "source": [
    "ros = RandomOverSampler(sampling_strategy = 0.5,random_state=random_seed)\n",
    "x_over,y_over = ros.fit_resample(x_train1,y_train1)"
   ]
  },
  {
   "cell_type": "markdown",
   "metadata": {},
   "source": [
    "### Model Selection:"
   ]
  },
  {
   "cell_type": "code",
   "execution_count": 162,
   "metadata": {},
   "outputs": [
    {
     "name": "stdout",
     "output_type": "stream",
     "text": [
      "DECISION TREE CV Scores:\n",
      "  [0.97821467 0.97662062 0.97980871 0.97502657 0.97874601 0.97927397\n",
      " 0.97927736 0.98140276 0.98031915 0.97873244]\n",
      "Mean AUC Score - DECISION TREE : 0.9787422266384145\n",
      "RANDOM FOREST CV Scores:\n",
      "  [0.98299681 0.98299681 0.98671626 0.98618491 0.98459086 0.98565017\n",
      " 0.98671626 0.98671626 0.98670213 0.9845835 ]\n",
      "Mean AUC Score - RANDOM FOREST : 0.9853853970998973\n",
      "BAGGING CV Scores:\n",
      "  [0.98140276 0.98246546 0.98512221 0.98459086 0.98405951 0.98458747\n",
      " 0.98459086 0.98565356 0.98617021 0.9845835 ]\n",
      "Mean AUC Score - BAGGING : 0.9843226413172307\n",
      "XGB CV Scores:\n",
      "  [0.9776867  0.97662626 0.98459086 0.98299681 0.98193411 0.97980306\n",
      " 0.98033554 0.98512108 0.98298098 0.98351967]\n",
      "Mean AUC Score - XGB : 0.9815595080379802\n"
     ]
    }
   ],
   "source": [
    "try_base_model_cv(clf,x_over,y_over,'Decision Tree')\n",
    "try_base_model_cv(rfc,x_over,y_over,'Random Forest')\n",
    "try_base_model_cv(bgc,x_over,y_over,'Bagging')\n",
    "try_base_model_cv(xgb,x_over,y_over,'XGB')"
   ]
  },
  {
   "cell_type": "code",
   "execution_count": 158,
   "metadata": {},
   "outputs": [
    {
     "name": "stdout",
     "output_type": "stream",
     "text": [
      "DECISION TREE  Score Proba: 0.7224250455811213\n",
      "DECISION TREE  Accuracy: 0.9531812725090036\n",
      "tn, fp, fn, tp:  3916 135 60 54\n",
      " \n",
      "RANDOM FOREST Score Proba: 0.7836076862113319\n",
      "RANDOM FOREST Accuracy: 0.9623049219687875\n",
      "tn, fp, fn, tp:  3957 94 63 51\n",
      " \n",
      "BGC Score Proba: 0.7871058478088581\n",
      "BGC Accuracy: 0.9618247298919568\n",
      "tn, fp, fn, tp:  3952 99 60 54\n",
      " \n",
      "XGB Score Proba: 0.71651357472922\n",
      "XGB Accuracy: 0.9611044417767107\n",
      "tn, fp, fn, tp:  3948 103 59 55\n",
      " \n"
     ]
    }
   ],
   "source": [
    "try_base_model(clf,x_over,y_over,x_test,y_test,'Decision Tree ')\n",
    "try_base_model(rfc,x_over,y_over,x_test,y_test,'Random Forest')\n",
    "try_base_model(bgc,x_over,y_over,x_test,y_test,'bgc')\n",
    "try_base_model(xgb,x_over,y_over,x_test,y_test,'xgb')"
   ]
  },
  {
   "cell_type": "markdown",
   "metadata": {},
   "source": [
    "### Feature Selection:"
   ]
  },
  {
   "cell_type": "code",
   "execution_count": 166,
   "metadata": {},
   "outputs": [],
   "source": [
    "rfc.fit(x_over,y_over)\n",
    "y_pred_proba = rfc.predict_proba(x_test)\n",
    "y_pred = rfc.predict(x_test)\n",
    "\n",
    "feature_importances = pd.DataFrame(rfc.feature_importances_,\n",
    "                                   index = x_over.columns,\n",
    "                                    columns=['importance']).sort_values('importance', ascending=False)\n",
    "\n",
    "z_feature_importances = (feature_importances['importance']-feature_importances['importance'].mean())/feature_importances['importance'].std()"
   ]
  },
  {
   "cell_type": "code",
   "execution_count": 181,
   "metadata": {},
   "outputs": [],
   "source": [
    "feature_importances.reset_index(inplace=True)\n",
    "selected = list(feature_importances['index'].iloc[0:11])"
   ]
  },
  {
   "cell_type": "code",
   "execution_count": 183,
   "metadata": {},
   "outputs": [],
   "source": [
    "x_selected = x_over[selected]\n",
    "y_selected = y_over\n",
    "x_test = x_test[selected]\n",
    "y_test = y_test"
   ]
  },
  {
   "cell_type": "code",
   "execution_count": 184,
   "metadata": {},
   "outputs": [
    {
     "name": "stdout",
     "output_type": "stream",
     "text": [
      "DECISION TREE CV Scores:\n",
      "  [0.97555792 0.97449522 0.97874601 0.97715197 0.97874601 0.97289778\n",
      " 0.97608927 0.98565356 0.97340426 0.98032818]\n",
      "Mean AUC Score - DECISION TREE : 0.9773070173771036\n",
      "RANDOM FOREST CV Scores:\n",
      "  [0.98193411 0.98246546 0.98565356 0.98459086 0.98459086 0.98511882\n",
      " 0.98512221 0.98671626 0.9856383  0.98351967]\n",
      "Mean AUC Score - RANDOM FOREST : 0.984535011588784\n",
      "BAGGING CV Scores:\n",
      "  [0.98034006 0.98193411 0.98512221 0.98459086 0.98405951 0.98405612\n",
      " 0.98352816 0.98671626 0.98297872 0.98192393]\n",
      "Mean AUC Score - BAGGING : 0.9835249950830297\n",
      "XGB CV Scores:\n",
      "  [0.97343929 0.97662626 0.98246546 0.97714744 0.98034006 0.97927397\n",
      " 0.98193298 0.98671626 0.98191715 0.97874147]\n",
      "Mean AUC Score - XGB : 0.9798600354463511\n",
      "DECISION TREE  Score Proba: 0.738705409537173\n",
      "DECISION TREE  Accuracy: 0.9503001200480192\n",
      "tn, fp, fn, tp:  3900 151 56 58\n",
      " \n",
      "RANDOM FOREST Score Proba: 0.7900734927914701\n",
      "RANDOM FOREST Accuracy: 0.9608643457382953\n",
      "tn, fp, fn, tp:  3945 106 57 57\n",
      " \n",
      "BGC Score Proba: 0.7979175598834163\n",
      "BGC Accuracy: 0.9596638655462185\n",
      "tn, fp, fn, tp:  3940 111 57 57\n",
      " \n",
      "XGB Score Proba: 0.7432223795727284\n",
      "XGB Accuracy: 0.9577430972388956\n",
      "tn, fp, fn, tp:  3932 119 57 57\n",
      " \n"
     ]
    }
   ],
   "source": [
    "try_base_model_cv(clf,x_selected,y_selected,'Decision Tree')\n",
    "try_base_model_cv(rfc,x_selected,y_selected,'Random Forest')\n",
    "try_base_model_cv(bgc,x_selected,y_selected,'Bagging')\n",
    "try_base_model_cv(xgb,x_selected,y_selected,'XGB')\n",
    "\n",
    "try_base_model(clf,x_selected,y_selected,x_test,y_test,'Decision Tree ')\n",
    "try_base_model(rfc,x_selected,y_selected,x_test,y_test,'Random Forest')\n",
    "try_base_model(bgc,x_selected,y_selected,x_test,y_test,'bgc')\n",
    "try_base_model(xgb,x_selected,y_selected,x_test,y_test,'xgb')"
   ]
  },
  {
   "cell_type": "markdown",
   "metadata": {},
   "source": [
    "### RFE"
   ]
  },
  {
   "cell_type": "code",
   "execution_count": 205,
   "metadata": {},
   "outputs": [],
   "source": [
    "from sklearn.feature_selection import RFE\n",
    "from sklearn.feature_selection import RFECV\n",
    "kfold = StratifiedKFold(n_splits=10, random_state=1)\n",
    "rfecv = RFECV(estimator=DecisionTreeClassifier(), step=1, cv=kfold,scoring=scorer)\n",
    "rfecv = rfecv.fit(x_over, y_over)"
   ]
  },
  {
   "cell_type": "code",
   "execution_count": 215,
   "metadata": {},
   "outputs": [],
   "source": [
    "df = pd.DataFrame(list(zip(x_over.columns, rfecv.ranking_, rfecv.estimator_.feature_importances_)), columns=['feature','ranking','importance'])"
   ]
  },
  {
   "cell_type": "code",
   "execution_count": 224,
   "metadata": {},
   "outputs": [
    {
     "name": "stdout",
     "output_type": "stream",
     "text": [
      "Optimal number of features : 34\n",
      "Best features : Index(['CODE_GENDER', 'FLAG_OWN_CAR', 'FLAG_OWN_REALTY', 'CNT_CHILDREN',\n",
      "       'AMT_INCOME_TOTAL', 'NAME_EDUCATION_TYPE', 'FLAG_WORK_PHONE',\n",
      "       'FLAG_PHONE', 'FLAG_EMAIL', 'Age', 'Work_months', 'Pensioner',\n",
      "       'State servant', 'Working', 'Married', 'Separated',\n",
      "       'Single / not married', 'Widow', 'Municipal apartment',\n",
      "       'Office apartment', 'With parents', 'Cleaning staff', 'Cooking staff',\n",
      "       'Core staff', 'Drivers', 'High skill tech staff', 'IT staff',\n",
      "       'Laborers', 'Low-skill Laborers', 'Managers', 'Medicine staff',\n",
      "       'Private service staff', 'Sales staff', 'Waiters/barmen staff'],\n",
      "      dtype='object')\n",
      "Original features : Index(['CODE_GENDER', 'FLAG_OWN_CAR', 'FLAG_OWN_REALTY', 'CNT_CHILDREN',\n",
      "       'AMT_INCOME_TOTAL', 'NAME_EDUCATION_TYPE', 'FLAG_WORK_PHONE',\n",
      "       'FLAG_PHONE', 'FLAG_EMAIL', 'Age', 'Work_months', 'Pensioner',\n",
      "       'State servant', 'Student', 'Working', 'Married', 'Separated',\n",
      "       'Single / not married', 'Widow', 'House / apartment',\n",
      "       'Municipal apartment', 'Office apartment', 'Rented apartment',\n",
      "       'With parents', 'Cleaning staff', 'Cooking staff', 'Core staff',\n",
      "       'Drivers', 'HR staff', 'High skill tech staff', 'IT staff', 'Laborers',\n",
      "       'Low-skill Laborers', 'Managers', 'Medicine staff',\n",
      "       'Private service staff', 'Realty agents', 'Sales staff', 'Secretaries',\n",
      "       'Security staff', 'Waiters/barmen staff'],\n",
      "      dtype='object')\n"
     ]
    },
    {
     "data": {
      "image/png": "[encoded data removed]",
      "text/plain": [
       "<Figure size 432x288 with 1 Axes>"
      ]
     },
     "metadata": {},
     "output_type": "display_data"
    }
   ],
   "source": [
    "print('Optimal number of features :', rfecv.n_features_)\n",
    "print('Best features :', x_over.columns[rfecv.support_])\n",
    "print('Original features :', x_over.columns)\n",
    "plt.figure()\n",
    "plt.xlabel(\"Number of features selected\")\n",
    "plt.ylabel(\"Cross validation score \\n of number of selected features\")\n",
    "plt.plot(range(1, len(rfecv.grid_scores_) + 1), rfecv.grid_scores_)\n",
    "plt.show()"
   ]
  },
  {
   "cell_type": "markdown",
   "metadata": {},
   "source": [
    "### Hyperparameter Tuning:"
   ]
  },
  {
   "cell_type": "code",
   "execution_count": 225,
   "metadata": {},
   "outputs": [],
   "source": [
    "n_estimators = [10,20,30,50,100]\n",
    "max_depth  = [3,5,10,15,20,50]\n",
    "min_samples_split = [50,100,150,200,250]\n",
    "min_samples_leaf =[50,75,100,125,150]\n",
    "bootstrap = [True, False]"
   ]
  },
  {
   "cell_type": "code",
   "execution_count": 226,
   "metadata": {},
   "outputs": [],
   "source": [
    "grid_dict = {'n_estimators': n_estimators,\n",
    "               'max_depth': max_depth,\n",
    "               'min_samples_split': min_samples_split,\n",
    "               'min_samples_leaf': min_samples_leaf,\n",
    "               'bootstrap': bootstrap}"
   ]
  },
  {
   "cell_type": "code",
   "execution_count": 229,
   "metadata": {},
   "outputs": [],
   "source": [
    "def grid_search(grid_dict):\n",
    "\n",
    "    rfc =  RandomForestClassifier(random_state=random_seed)\n",
    "\n",
    "    model = GridSearchCV(estimator = rfc, param_grid=grid_dict, cv = 10, verbose= 5, n_jobs = -1,scoring=scorer)\n",
    "    model.fit(x_selected,y_selected)\n",
    "\n",
    "    pred = model.best_estimator_.predict(x_test)\n",
    "    pred_prob = model.best_estimator_.predict_proba(x_test)\n",
    "    print(confusion_matrix(y_test,pred))\n",
    "    print(metrics.accuracy_score(y_test,pred))\n",
    "    print(metrics.roc_auc_score(y_test,pred))\n",
    "    print('with prob: '+ str(metrics.roc_auc_score(y_test,pred_prob[:,1])))\n",
    "    print(model.best_estimator_)\n",
    "    print('scorer_score_train '+str(scorer(model.best_estimator_,x_selected,y_selected)))"
   ]
  },
  {
   "cell_type": "code",
   "execution_count": 230,
   "metadata": {},
   "outputs": [
    {
     "name": "stdout",
     "output_type": "stream",
     "text": [
      "Fitting 10 folds for each of 1500 candidates, totalling 15000 fits\n"
     ]
    },
    {
     "name": "stderr",
     "output_type": "stream",
     "text": [
      "[Parallel(n_jobs=-1)]: Using backend LokyBackend with 4 concurrent workers.\n",
      "[Parallel(n_jobs=-1)]: Done  10 tasks      | elapsed:    5.9s\n",
      "[Parallel(n_jobs=-1)]: Done  64 tasks      | elapsed:   12.8s\n",
      "[Parallel(n_jobs=-1)]: Done 154 tasks      | elapsed:   20.8s\n",
      "[Parallel(n_jobs=-1)]: Done 280 tasks      | elapsed:   30.0s\n",
      "[Parallel(n_jobs=-1)]: Done 442 tasks      | elapsed:   44.7s\n",
      "[Parallel(n_jobs=-1)]: Done 640 tasks      | elapsed:  1.0min\n",
      "[Parallel(n_jobs=-1)]: Done 874 tasks      | elapsed:  1.4min\n",
      "[Parallel(n_jobs=-1)]: Done 1144 tasks      | elapsed:  1.7min\n",
      "[Parallel(n_jobs=-1)]: Done 1450 tasks      | elapsed:  2.2min\n",
      "[Parallel(n_jobs=-1)]: Done 1792 tasks      | elapsed:  2.8min\n",
      "[Parallel(n_jobs=-1)]: Done 2170 tasks      | elapsed:  3.4min\n",
      "[Parallel(n_jobs=-1)]: Done 2584 tasks      | elapsed:  4.1min\n",
      "[Parallel(n_jobs=-1)]: Done 3034 tasks      | elapsed:  5.0min\n",
      "[Parallel(n_jobs=-1)]: Done 3520 tasks      | elapsed:  6.0min\n",
      "[Parallel(n_jobs=-1)]: Done 4042 tasks      | elapsed:  7.1min\n",
      "[Parallel(n_jobs=-1)]: Done 4600 tasks      | elapsed:  8.3min\n",
      "[Parallel(n_jobs=-1)]: Done 5194 tasks      | elapsed:  9.6min\n",
      "[Parallel(n_jobs=-1)]: Done 5824 tasks      | elapsed: 10.8min\n",
      "[Parallel(n_jobs=-1)]: Done 6490 tasks      | elapsed: 12.2min\n",
      "[Parallel(n_jobs=-1)]: Done 7192 tasks      | elapsed: 13.7min\n",
      "[Parallel(n_jobs=-1)]: Done 7930 tasks      | elapsed: 14.9min\n",
      "[Parallel(n_jobs=-1)]: Done 8704 tasks      | elapsed: 16.2min\n",
      "[Parallel(n_jobs=-1)]: Done 9514 tasks      | elapsed: 17.9min\n",
      "[Parallel(n_jobs=-1)]: Done 10360 tasks      | elapsed: 20.0min\n",
      "[Parallel(n_jobs=-1)]: Done 11242 tasks      | elapsed: 22.4min\n",
      "[Parallel(n_jobs=-1)]: Done 12160 tasks      | elapsed: 25.2min\n",
      "[Parallel(n_jobs=-1)]: Done 13114 tasks      | elapsed: 28.1min\n",
      "[Parallel(n_jobs=-1)]: Done 14104 tasks      | elapsed: 30.9min\n",
      "[Parallel(n_jobs=-1)]: Done 15000 out of 15000 | elapsed: 33.3min finished\n"
     ]
    },
    {
     "name": "stdout",
     "output_type": "stream",
     "text": [
      "[[3943  108]\n",
      " [  77   37]]\n",
      "0.9555822328931572\n",
      "0.648950659789439\n",
      "with prob: 0.7675969113106142\n",
      "RandomForestClassifier(bootstrap=False, max_depth=20, min_samples_leaf=50,\n",
      "                       min_samples_split=50, n_estimators=10,\n",
      "                       random_state=1001)\n",
      "scorer_score_train 0.8418367346938775\n"
     ]
    }
   ],
   "source": [
    "grid_search(grid_dict)"
   ]
  },
  {
   "cell_type": "code",
   "execution_count": null,
   "metadata": {},
   "outputs": [],
   "source": []
  }
 ],
 "metadata": {
  "kernelspec": {
   "display_name": "Python 3",
   "language": "python",
   "name": "python3"
  },
  "language_info": {
   "codemirror_mode": {
    "name": "ipython",
    "version": 3
   },
   "file_extension": ".py",
   "mimetype": "text/x-python",
   "name": "python",
   "nbconvert_exporter": "python",
   "pygments_lexer": "ipython3",
   "version": "3.7.3"
  }
 },
 "nbformat": 4,
 "nbformat_minor": 2
}
