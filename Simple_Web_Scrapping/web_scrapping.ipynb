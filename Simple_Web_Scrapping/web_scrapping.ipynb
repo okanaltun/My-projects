{
 "cells": [
  {
   "cell_type": "markdown",
   "metadata": {},
   "source": [
    "### We can easily collect available information by utilizing selenium library on python. You also need chromedriver.exe file that is compatible with the Google Chrome Version you are currently using (other browsers may require different solutions):\n"
   ]
  },
  {
   "cell_type": "code",
   "execution_count": null,
   "metadata": {},
   "outputs": [],
   "source": [
    "import numpy as np\n",
    "import pandas as pd\n",
    "import selenium as sel\n",
    "from selenium import webdriver\n",
    "from selenium.webdriver.support.ui import Select\n",
    "from selenium.webdriver.common.by import By\n",
    "from selenium.webdriver.support.ui import WebDriverWait\n",
    "from selenium.webdriver.support import expected_conditions as EC"
   ]
  },
  {
   "cell_type": "markdown",
   "metadata": {},
   "source": [
    "## FLOW:\n",
    "\n",
    "Here, I'd like to make a simple web scrapping tool for myself to collect different locations of a Telecom company. The example cae is just randomly selected. The simple tool I have coded below can be extended and enhanced, and also, it might not work if some changes have occured for the related web-site."
   ]
  },
  {
   "cell_type": "markdown",
   "metadata": {},
   "source": [
    "##### Base URL:"
   ]
  },
  {
   "cell_type": "code",
   "execution_count": null,
   "metadata": {},
   "outputs": [],
   "source": [
    "url = \"https://sa.zain.com/en/locate-us\""
   ]
  },
  {
   "cell_type": "markdown",
   "metadata": {},
   "source": [
    "##### Connection:"
   ]
  },
  {
   "cell_type": "code",
   "execution_count": null,
   "metadata": {},
   "outputs": [],
   "source": [
    "driver = webdriver.Chrome()"
   ]
  },
  {
   "cell_type": "code",
   "execution_count": null,
   "metadata": {},
   "outputs": [],
   "source": [
    "driver.get(url)"
   ]
  },
  {
   "cell_type": "markdown",
   "metadata": {},
   "source": [
    "##### For dropdown menu:\n",
    "\n",
    "- find_element_by_name or by_xnext could also be tried. A properly written xnext should be the most prone to alterations:"
   ]
  },
  {
   "cell_type": "code",
   "execution_count": null,
   "metadata": {},
   "outputs": [],
   "source": [
    "regions = Select(driver.find_element_by_id('map-regions'))\n",
    "sub_regions = Select(driver.find_element_by_id('map-subregions'))"
   ]
  },
  {
   "cell_type": "markdown",
   "metadata": {},
   "source": [
    "##### For Clicking"
   ]
  },
  {
   "cell_type": "code",
   "execution_count": null,
   "metadata": {},
   "outputs": [],
   "source": [
    "element = WebDriverWait(driver,1).until(EC.presence_of_element_located((By.ID,\"locateus-search\")))"
   ]
  },
  {
   "cell_type": "markdown",
   "metadata": {},
   "source": [
    "#### The Loop for Creating the Dictionary:\n",
    "\n",
    "Here, I examined the organization of the website and arranged my code accordingly to store information in a dictionary. Later on, I will transform this into a dataframe to save."
   ]
  },
  {
   "cell_type": "code",
   "execution_count": null,
   "metadata": {
    "scrolled": true
   },
   "outputs": [],
   "source": [
    "genel ={}\n",
    "region_len = len(regions.options)\n",
    "\n",
    "for reg in range(1,3):\n",
    "\n",
    "    regions.select_by_index(reg)\n",
    "    element.click()\n",
    "    reg_name = regions.first_selected_option.text\n",
    "    \n",
    "    sub_dict={}\n",
    "    new_option_len = len(sub_regions.options)\n",
    "    for sub in range(0,new_option_len):\n",
    "\n",
    "        sub_regions.select_by_index(sub)\n",
    "        element.click()\n",
    "        sub_name = sub_regions.first_selected_option.text\n",
    "        print(sub_name)\n",
    "        \n",
    "        stores = driver.find_elements_by_class_name('store-title')\n",
    "        store_list =''\n",
    "        try:\n",
    "            for i in range(1,len(stores)):\n",
    "                store_list += str(stores[i].text) + '/'\n",
    "        except:\n",
    "            continue\n",
    "        \n",
    "        sub_dict[sub_name] = store_list\n",
    "            \n",
    "    genel[reg_name] = sub_dict"
   ]
  },
  {
   "cell_type": "markdown",
   "metadata": {},
   "source": [
    "##### From Dict To Dataframe & Excel:"
   ]
  },
  {
   "cell_type": "code",
   "execution_count": null,
   "metadata": {},
   "outputs": [],
   "source": [
    "empty = pd.DataFrame(columns=['Region','Sub-Region','Store Types'])\n",
    "for r, s in genel.items():\n",
    "    \n",
    "    data = pd.DataFrame(list(s.items()),columns=['Sub-Region','Store Types'])\n",
    "    data['Region']=r\n",
    "    empty=empty.append(data)"
   ]
  },
  {
   "cell_type": "code",
   "execution_count": null,
   "metadata": {},
   "outputs": [],
   "source": [
    "empty.reset_index(drop=True).to_excel('Zain Locations.xlsx')"
   ]
  },
  {
   "cell_type": "code",
   "execution_count": null,
   "metadata": {},
   "outputs": [],
   "source": []
  }
 ],
 "metadata": {
  "kernelspec": {
   "display_name": "Python 3",
   "language": "python",
   "name": "python3"
  },
  "language_info": {
   "codemirror_mode": {
    "name": "ipython",
    "version": 3
   },
   "file_extension": ".py",
   "mimetype": "text/x-python",
   "name": "python",
   "nbconvert_exporter": "python",
   "pygments_lexer": "ipython3",
   "version": "3.7.3"
  }
 },
 "nbformat": 4,
 "nbformat_minor": 2
}
